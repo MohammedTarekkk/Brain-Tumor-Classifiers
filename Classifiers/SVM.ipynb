{
  "nbformat": 4,
  "nbformat_minor": 0,
  "metadata": {
    "colab": {
      "name": "SVM.ipynb",
      "provenance": [],
      "collapsed_sections": []
    },
    "kernelspec": {
      "name": "python3",
      "display_name": "Python 3"
    },
    "language_info": {
      "name": "python"
    }
  },
  "cells": [
    {
      "cell_type": "code",
      "execution_count": null,
      "metadata": {
        "id": "_z5MNMAC3YLF"
      },
      "outputs": [],
      "source": [
        ""
      ]
    }
  ]
}